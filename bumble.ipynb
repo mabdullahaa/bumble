{
 "cells": [
  {
   "cell_type": "code",
   "execution_count": null,
   "id": "infinite-pixel",
   "metadata": {},
   "outputs": [],
   "source": [
    "import json\n",
    "import time\n",
    "\n",
    "from chromedriver_py import binary_path\n",
    "from selenium import webdriver\n",
    "from selenium.webdriver.chrome.service import Service\n",
    "from selenium.webdriver.common.by import By\n",
    "from selenium.webdriver.support import expected_conditions as EC\n",
    "from selenium.webdriver.support.wait import WebDriverWait"
   ]
  },
  {
   "cell_type": "code",
   "execution_count": null,
   "id": "liable-curve",
   "metadata": {},
   "outputs": [],
   "source": [
    "def find(driver, selector):\n",
    "    return driver.find_elements(By.CSS_SELECTOR, selector)"
   ]
  },
  {
   "cell_type": "code",
   "execution_count": null,
   "id": "excessive-noise",
   "metadata": {},
   "outputs": [],
   "source": [
    "def parse_profile(driver):\n",
    "    profile = {\n",
    "        \"attributes\": {},\n",
    "        \"chips\": {},\n",
    "        \"questions\": [],\n",
    "        \"images\": [],\n",
    "        \"spotify\": [],\n",
    "    }\n",
    "    \n",
    "    # Html class tags for attributes.\n",
    "    attribute_tags = {\n",
    "        \"about\": \".encounters-story-about__text\",\n",
    "        \"name\": \".encounters-story-profile__name\",\n",
    "        \"age\": \".encounters-story-profile__age\",\n",
    "        \"occupation\": \".encounters-story-profile__occupation\",\n",
    "        \"education\": \".encounters-story-profile__education\",\n",
    "        \"location\": \".location-widget__town\",\n",
    "    }\n",
    "\n",
    "    # Add attributes.\n",
    "    for attribute, tag in attribute_tags.items():\n",
    "        for e in find(driver, tag):\n",
    "            profile[\"attributes\"][attribute] = e.get_attribute(\"innerText\")\n",
    "            break\n",
    "\n",
    "    # Add chips.\n",
    "    for e in find(driver, \".pill__image\"):\n",
    "        chip = e.get_attribute(\"src\")\n",
    "        name = chip.split(\"profileChips_bff_\")[1].split(\"v2\")[0]\n",
    "        profile[\"chips\"][name] = e.get_attribute(\"alt\")\n",
    "\n",
    "    # Add questions.\n",
    "    for e in find(driver, \".encounters-story-section--question\"):\n",
    "        profile[\"questions\"].append(e.get_attribute(\"innerText\"))\n",
    "        \n",
    "    # Add images.\n",
    "    for e in find(driver, \".media-box__picture-image\"):\n",
    "        profile[\"images\"].append(e.get_attribute(\"src\"))\n",
    "\n",
    "    # Add artists.\n",
    "    for e in find(driver, \".spotify-widget__artist-name\"):\n",
    "        profile[\"spotify\"].append(e.get_attribute(\"innerText\"))\n",
    "\n",
    "    return profile"
   ]
  },
  {
   "cell_type": "code",
   "execution_count": null,
   "id": "conditional-depression",
   "metadata": {},
   "outputs": [],
   "source": [
    "def should_dislike(driver):\n",
    "    profile = parse_profile(driver)\n",
    "    \n",
    "    # Too few words in the about section.\n",
    "    if len(profile[\"attributes\"].get(\"about\", \"\").split()) < 10:\n",
    "        return True\n",
    "    \n",
    "    # Did not answer enough questions.\n",
    "    if len(profile[\"questions\"]) < 3:\n",
    "        return True\n",
    "    \n",
    "    # Too few words in all questions combined.\n",
    "    if sum([len(q.split(\"\\n\\n\")[1].split()) for q in profile[\"questions\"]]) < 10:\n",
    "        return True\n",
    "    \n",
    "    # Not enough pictures.\n",
    "    if len(profile[\"images\"]) < 3:\n",
    "        return True\n",
    "    \n",
    "    # No job.\n",
    "    if \"occupation\" not in profile[\"attributes\"]:\n",
    "        return True\n",
    "    \n",
    "    return False"
   ]
  },
  {
   "cell_type": "code",
   "execution_count": null,
   "id": "naval-characterization",
   "metadata": {},
   "outputs": [],
   "source": [
    "# This automatically updates chromedriver.\n",
    "driver = webdriver.Chrome(service=Service(binary_path))"
   ]
  },
  {
   "cell_type": "code",
   "execution_count": null,
   "id": "ideal-diamond",
   "metadata": {},
   "outputs": [],
   "source": [
    "# Navigate to bumble.\n",
    "driver.get(\"https://bumble.com/app\")"
   ]
  },
  {
   "cell_type": "code",
   "execution_count": null,
   "id": "english-feeding",
   "metadata": {},
   "outputs": [],
   "source": [
    "# The login process is a bit difficult to automate, so do it manually."
   ]
  },
  {
   "cell_type": "code",
   "execution_count": null,
   "id": "intense-drain",
   "metadata": {},
   "outputs": [],
   "source": [
    "while True:\n",
    "    try:\n",
    "        if should_dislike(driver):\n",
    "            find(driver, \".encounters-action--dislike\")[0].click()\n",
    "        else:\n",
    "            # Give time to manually like or dislike before checking again.\n",
    "            time.sleep(1)\n",
    "                 \n",
    "    # This happens if the page is not loaded yet. Wait before trying again.\n",
    "    except:\n",
    "        time.sleep(1)"
   ]
  },
  {
   "cell_type": "code",
   "execution_count": null,
   "id": "viral-voice",
   "metadata": {},
   "outputs": [],
   "source": []
  }
 ],
 "metadata": {
  "kernelspec": {
   "display_name": "Python 3 (ipykernel)",
   "language": "python",
   "name": "python3"
  },
  "language_info": {
   "codemirror_mode": {
    "name": "ipython",
    "version": 3
   },
   "file_extension": ".py",
   "mimetype": "text/x-python",
   "name": "python",
   "nbconvert_exporter": "python",
   "pygments_lexer": "ipython3",
   "version": "3.11.3"
  }
 },
 "nbformat": 4,
 "nbformat_minor": 5
}
